{
 "cells": [
  {
   "cell_type": "code",
   "execution_count": 1,
   "metadata": {},
   "outputs": [],
   "source": [
    "#G\n",
    "import numpy as np\n",
    "\n",
    "\n",
    "class LogisticRegression:\n",
    "    \n",
    "    def _init_(self,lr=0.001,n_iters=1000):\n",
    "        self.lr=lr\n",
    "        self.n_iters=n_iters\n",
    "        self.weights=None\n",
    "        self.bias=None\n",
    "        \n",
    "    def fit(self,X,y,lr):\n",
    "        n_samples,n_features=X.shape\n",
    "        self.weights=np.zeros(n_features)\n",
    "        self.bias=0\n",
    "        \n",
    "        for i in range(1000):\n",
    "            linear_model=np.dot(X,self.weights)+self.bias\n",
    "            y_predicted=self._sigmoid(linear_model)\n",
    "            \n",
    "            \n",
    "            dw=(1/n_samples)+np.dot(X.T,(y_predicted-y))\n",
    "            db=(1/n_samples)+np.sum(y_predicted-y)\n",
    "            \n",
    "            self.weights -=lr*dw\n",
    "            self.bias -=lr*db\n",
    "            \n",
    "            \n",
    "        \n",
    "\n",
    "        \n",
    "    def predict(self,X):\n",
    "        linear_model=np.dot(X,self.weights)+self.bias\n",
    "        y_predicted=self._sigmoid(linear_model)\n",
    "        y_predicted_cls=[1 if i>0.5 else 0 for i in y_predicted]\n",
    "        return y_predicted_cls\n",
    "    \n",
    "    def _sigmoid(self,x):\n",
    "        return 1/(1+np.exp(-x))"
   ]
  },
  {
   "cell_type": "code",
   "execution_count": 2,
   "metadata": {},
   "outputs": [],
   "source": [
    "regressor=LogisticRegression()"
   ]
  },
  {
   "cell_type": "code",
   "execution_count": 3,
   "metadata": {},
   "outputs": [],
   "source": [
    "from sklearn.model_selection import train_test_split\n",
    "from sklearn import datasets\n"
   ]
  },
  {
   "cell_type": "code",
   "execution_count": 4,
   "metadata": {},
   "outputs": [],
   "source": [
    "bc=datasets.load_breast_cancer()"
   ]
  },
  {
   "cell_type": "code",
   "execution_count": 5,
   "metadata": {},
   "outputs": [],
   "source": [
    "X,y=bc.data,bc.target"
   ]
  },
  {
   "cell_type": "code",
   "execution_count": 20,
   "metadata": {},
   "outputs": [],
   "source": [
    "x_train,x_test,y_train,y_test=train_test_split(X,y,test_size=0.2,random_state=1234)"
   ]
  },
  {
   "cell_type": "code",
   "execution_count": 21,
   "metadata": {},
   "outputs": [],
   "source": [
    "regressor.fit(x_train,y_train,lr=0)"
   ]
  },
  {
   "cell_type": "code",
   "execution_count": 22,
   "metadata": {},
   "outputs": [],
   "source": [
    "y_pred=regressor.predict(x_test)"
   ]
  },
  {
   "cell_type": "code",
   "execution_count": 23,
   "metadata": {},
   "outputs": [],
   "source": [
    "from sklearn.metrics import accuracy_score"
   ]
  },
  {
   "cell_type": "code",
   "execution_count": 24,
   "metadata": {},
   "outputs": [
    {
     "data": {
      "text/plain": [
       "0.9210526315789473"
      ]
     },
     "execution_count": 24,
     "metadata": {},
     "output_type": "execute_result"
    }
   ],
   "source": [
    "accuracy_score(y_pred,y_test)"
   ]
  },
  {
   "cell_type": "code",
   "execution_count": null,
   "metadata": {},
   "outputs": [],
   "source": []
  }
 ],
 "metadata": {
  "kernelspec": {
   "display_name": "Python 3",
   "language": "python",
   "name": "python3"
  },
  "language_info": {
   "codemirror_mode": {
    "name": "ipython",
    "version": 3
   },
   "file_extension": ".py",
   "mimetype": "text/x-python",
   "name": "python",
   "nbconvert_exporter": "python",
   "pygments_lexer": "ipython3",
   "version": "3.7.3"
  }
 },
 "nbformat": 4,
 "nbformat_minor": 2
}
